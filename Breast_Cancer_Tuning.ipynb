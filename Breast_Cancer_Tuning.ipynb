{
  "nbformat": 4,
  "nbformat_minor": 0,
  "metadata": {
    "colab": {
      "name": "Breast_Cancer_Tuning.ipynb",
      "provenance": [],
      "collapsed_sections": [],
      "authorship_tag": "ABX9TyOuRSEdL4smLt42ZsFJvvYR"
    },
    "kernelspec": {
      "name": "python3",
      "display_name": "Python 3"
    }
  },
  "cells": [
    {
      "cell_type": "code",
      "metadata": {
        "id": "I1XzN05dMLIY",
        "colab_type": "code",
        "colab": {}
      },
      "source": [
        "import pandas as pd"
      ],
      "execution_count": 0,
      "outputs": []
    },
    {
      "cell_type": "code",
      "metadata": {
        "id": "m-NxcYnANoQ8",
        "colab_type": "code",
        "colab": {}
      },
      "source": [
        "urlpredictor = 'https://raw.githubusercontent.com/JrSousaJ/Breast_Cancer/master/input.csv'\n",
        "urlclass = 'https://raw.githubusercontent.com/JrSousaJ/Breast_Cancer/master/output.csv'\n"
      ],
      "execution_count": 0,
      "outputs": []
    },
    {
      "cell_type": "code",
      "metadata": {
        "id": "BD2k-lXCOHmR",
        "colab_type": "code",
        "colab": {}
      },
      "source": [
        "predictor = pd.read_csv(urlpredictor)\n",
        "bcclass = pd.read_csv(urlclass)"
      ],
      "execution_count": 0,
      "outputs": []
    },
    {
      "cell_type": "markdown",
      "metadata": {
        "id": "s0t-MGtR4Q-V",
        "colab_type": "text"
      },
      "source": [
        "Validação cruzada\n"
      ]
    },
    {
      "cell_type": "code",
      "metadata": {
        "id": "AY1siJ4cTDKM",
        "colab_type": "code",
        "outputId": "0e1a06c6-8d17-4378-a852-666e9cd71f9c",
        "colab": {
          "base_uri": "https://localhost:8080/",
          "height": 34
        }
      },
      "source": [
        "from sklearn.model_selection import cross_val_score\n",
        "from sklearn.model_selection import GridSearchCV\n",
        "import keras\n",
        "from keras.models import Sequential\n",
        "from keras.layers import Dense, Dropout\n",
        "from keras.wrappers.scikit_learn import KerasClassifier \n",
        "def makeNetwork(optimizer, loss, kernel_initializer, activation, neurons):\n",
        "  classifier = Sequential()\n",
        "  classifier.add(Dense(units = neurons, activation=activation, \n",
        "                      kernel_initializer=kernel_initializer, input_dim=30))\n",
        "  classifier.add(Dropout(0.2))\n",
        "  classifier.add(Dense(units = neurons, activation=activation, \n",
        "                      kernel_initializer=kernel_initializer))\n",
        "  classifier.add(Dropout(0.2))\n",
        "  classifier.add(Dense(units = 1, activation=\"sigmoid\"))\n",
        "  #ooptimizer = keras.optimizers.Adam(lr=0.005,decay=0.0001,clipvalue=0.5)\n",
        "  classifier.compile(optimizer=optimizer, loss=loss, \n",
        "                   metrics=[\"binary_accuracy\"])\n",
        "  return classifier"
      ],
      "execution_count": 0,
      "outputs": [
        {
          "output_type": "stream",
          "text": [
            "Using TensorFlow backend.\n"
          ],
          "name": "stderr"
        }
      ]
    },
    {
      "cell_type": "markdown",
      "metadata": {
        "id": "FCMkbvOKuq-p",
        "colab_type": "text"
      },
      "source": [
        "**Tuning**"
      ]
    },
    {
      "cell_type": "code",
      "metadata": {
        "id": "iQzwzXWfs1U3",
        "colab_type": "code",
        "colab": {}
      },
      "source": [
        "classifier = KerasClassifier(build_fn=makeNetwork)\n",
        "params = {'batch_size':[10,5,2,30,20],\n",
        "          'epochs':[100,200],\n",
        "          'optimizer':['adam','sgd'],\n",
        "          'loss':['binary_crossentropy', 'hinge'],\n",
        "          'kernel_initializer':['random_uniform', 'normal'],\n",
        "          'activation':['relu','tanh'],\n",
        "          'neurons':[16,8]}\n",
        "#result = cross_val_score(estimator=classifier,\n",
        "#                         X=predictor, y=bcclass,\n",
        "#                         cv=10, scoring=\"accuracy\")\n",
        "grid_search = GridSearchCV(estimator=classifier,\n",
        "                           param_grid=params,\n",
        "                           scoring=\"accuracy\",\n",
        "                           cv=10)\n",
        "grid_search = grid_search.fit(predictor,bcclass)\n",
        "best_params = grid_search.best_params_\n",
        "best_precision = grid_search.best_score_\n"
      ],
      "execution_count": 0,
      "outputs": []
    },
    {
      "cell_type": "code",
      "metadata": {
        "id": "Dr0k69W4uqOf",
        "colab_type": "code",
        "colab": {}
      },
      "source": [
        "#average = result.mean()\n",
        "#print(average)\n",
        "#deviation = result.std()\n",
        "#print(deviation)\n",
        "print(best_precision)"
      ],
      "execution_count": 0,
      "outputs": []
    },
    {
      "cell_type": "code",
      "metadata": {
        "id": "dgg5kvZQvoBm",
        "colab_type": "code",
        "colab": {}
      },
      "source": [
        "weight0 = classifier.layers[0].get_weights()\n",
        "print(weight0)\n",
        "weight1 = classifier.layers[1].get_weights()\n",
        "print(weight1)\n",
        "predictions = classifier.predict(predictor_test)\n",
        "predictions = (predictions > 0.5)\n",
        "\n",
        "from sklearn.metrics import confusion_matrix, accuracy_score\n",
        "precision = accuracy_score(bcclass_test,predictions)\n",
        "\n",
        "matriz = confusion_matrix(bcclass_test,predictions)"
      ],
      "execution_count": 0,
      "outputs": []
    },
    {
      "cell_type": "code",
      "metadata": {
        "id": "tuBaK30RwXEm",
        "colab_type": "code",
        "outputId": "7b19e203-22ba-4f5a-fbac-685101f785cd",
        "colab": {
          "base_uri": "https://localhost:8080/",
          "height": 85
        }
      },
      "source": [
        "result = classifier.evaluate(predictor_test,bcclass_test)\n",
        "print(precision)\n",
        "print(matriz)"
      ],
      "execution_count": 0,
      "outputs": [
        {
          "output_type": "stream",
          "text": [
            "143/143 [==============================] - 0s 134us/step\n",
            "0.7832167832167832\n",
            "[[23 28]\n",
            " [ 3 89]]\n"
          ],
          "name": "stdout"
        }
      ]
    }
  ]
}